{
 "cells": [
  {
   "cell_type": "markdown",
   "metadata": {},
   "source": [
    "# What is the True Normal Human Body Temperature? \n",
    "\n",
    "#### Background\n",
    "\n",
    "The mean normal body temperature was held to be 37$^{\\circ}$C or 98.6$^{\\circ}$F for more than 120 years since it was first conceptualized and reported by Carl Wunderlich in a famous 1868 book. But, is this value statistically correct?"
   ]
  },
  {
   "cell_type": "markdown",
   "metadata": {},
   "source": [
    "<h3>Exercises</h3>\n",
    "\n",
    "<p>In this exercise, you will analyze a dataset of human body temperatures and employ the concepts of hypothesis testing, confidence intervals, and statistical significance.</p>\n",
    "\n",
    "<p>Answer the following questions <b>in this notebook below and submit to your Github account</b>.</p> \n",
    "\n",
    "<ol>\n",
    "<li>  Is the distribution of body temperatures normal? \n",
    "    <ul>\n",
    "    <li> Although this is not a requirement for the Central Limit Theorem to hold (read the introduction on Wikipedia's page about the CLT carefully: https://en.wikipedia.org/wiki/Central_limit_theorem), it gives us some peace of mind that the population may also be normally distributed if we assume that this sample is representative of the population.\n",
    "    <li> Think about the way you're going to check for the normality of the distribution. Graphical methods are usually used first, but there are also other ways: https://en.wikipedia.org/wiki/Normality_test\n",
    "    </ul>\n",
    "<li>  Is the sample size large? Are the observations independent?\n",
    "    <ul>\n",
    "    <li> Remember that this is a condition for the Central Limit Theorem, and hence the statistical tests we are using, to apply.\n",
    "    </ul>\n",
    "<li>  Is the true population mean really 98.6 degrees F?\n",
    "    <ul>\n",
    "    <li> First, try a bootstrap hypothesis test.\n",
    "    <li> Now, let's try frequentist statistical testing. Would you use a one-sample or two-sample test? Why?\n",
    "    <li> In this situation, is it appropriate to use the $t$ or $z$ statistic? \n",
    "    <li> Now try using the other test. How is the result be different? Why?\n",
    "    </ul>\n",
    "<li>  Draw a small sample of size 10 from the data and repeat both frequentist tests. \n",
    "    <ul>\n",
    "    <li> Which one is the correct one to use? \n",
    "    <li> What do you notice? What does this tell you about the difference in application of the $t$ and $z$ statistic?\n",
    "    </ul>\n",
    "<li>  At what temperature should we consider someone's temperature to be \"abnormal\"?\n",
    "    <ul>\n",
    "    <li> As in the previous example, try calculating everything using the boostrap approach, as well as the frequentist approach.\n",
    "    <li> Start by computing the margin of error and confidence interval. When calculating the confidence interval, keep in mind that you should use the appropriate formula for one draw, and not N draws.\n",
    "    </ul>\n",
    "<li>  Is there a significant difference between males and females in normal temperature?\n",
    "    <ul>\n",
    "    <li> What testing approach did you use and why?\n",
    "    <li> Write a story with your conclusion in the context of the original problem.\n",
    "    </ul>\n",
    "</ol>\n",
    "\n",
    "You can include written notes in notebook cells using Markdown: \n",
    "   - In the control panel at the top, choose Cell > Cell Type > Markdown\n",
    "   - Markdown syntax: http://nestacms.com/docs/creating-content/markdown-cheat-sheet\n",
    "\n",
    "#### Resources\n",
    "\n",
    "+ Information and data sources: http://www.amstat.org/publications/jse/datasets/normtemp.txt, http://www.amstat.org/publications/jse/jse_data_archive.htm\n",
    "+ Markdown syntax: http://nestacms.com/docs/creating-content/markdown-cheat-sheet\n",
    "\n",
    "****"
   ]
  },
  {
   "cell_type": "code",
   "execution_count": 1,
   "metadata": {},
   "outputs": [
    {
     "data": {
      "text/html": [
       "<div>\n",
       "<style>\n",
       "    .dataframe thead tr:only-child th {\n",
       "        text-align: right;\n",
       "    }\n",
       "\n",
       "    .dataframe thead th {\n",
       "        text-align: left;\n",
       "    }\n",
       "\n",
       "    .dataframe tbody tr th {\n",
       "        vertical-align: top;\n",
       "    }\n",
       "</style>\n",
       "<table border=\"1\" class=\"dataframe\">\n",
       "  <thead>\n",
       "    <tr style=\"text-align: right;\">\n",
       "      <th></th>\n",
       "      <th>temperature</th>\n",
       "      <th>gender</th>\n",
       "      <th>heart_rate</th>\n",
       "    </tr>\n",
       "  </thead>\n",
       "  <tbody>\n",
       "    <tr>\n",
       "      <th>0</th>\n",
       "      <td>99.3</td>\n",
       "      <td>F</td>\n",
       "      <td>68.0</td>\n",
       "    </tr>\n",
       "    <tr>\n",
       "      <th>1</th>\n",
       "      <td>98.4</td>\n",
       "      <td>F</td>\n",
       "      <td>81.0</td>\n",
       "    </tr>\n",
       "    <tr>\n",
       "      <th>2</th>\n",
       "      <td>97.8</td>\n",
       "      <td>M</td>\n",
       "      <td>73.0</td>\n",
       "    </tr>\n",
       "    <tr>\n",
       "      <th>3</th>\n",
       "      <td>99.2</td>\n",
       "      <td>F</td>\n",
       "      <td>66.0</td>\n",
       "    </tr>\n",
       "    <tr>\n",
       "      <th>4</th>\n",
       "      <td>98.0</td>\n",
       "      <td>F</td>\n",
       "      <td>73.0</td>\n",
       "    </tr>\n",
       "  </tbody>\n",
       "</table>\n",
       "</div>"
      ],
      "text/plain": [
       "   temperature gender  heart_rate\n",
       "0         99.3      F        68.0\n",
       "1         98.4      F        81.0\n",
       "2         97.8      M        73.0\n",
       "3         99.2      F        66.0\n",
       "4         98.0      F        73.0"
      ]
     },
     "execution_count": 1,
     "metadata": {},
     "output_type": "execute_result"
    }
   ],
   "source": [
    "import pandas as pd\n",
    "import numpy as np\n",
    "import matplotlib.pyplot as plt\n",
    "import scipy.stats as sci\n",
    "\n",
    "df = pd.read_csv('data/human_body_temperature.csv')\n",
    "df.head()"
   ]
  },
  {
   "cell_type": "code",
   "execution_count": 2,
   "metadata": {
    "collapsed": true
   },
   "outputs": [],
   "source": [
    "temp = df['temperature']"
   ]
  },
  {
   "cell_type": "markdown",
   "metadata": {
    "collapsed": true
   },
   "source": [
    "### 1. Is the distribution of body temperatures normal?"
   ]
  },
  {
   "cell_type": "code",
   "execution_count": 3,
   "metadata": {
    "scrolled": true
   },
   "outputs": [
    {
     "data": {
      "image/png": "[encoded data removed]",
      "text/plain": [
       "<matplotlib.figure.Figure at 0x113f0a470>"
      ]
     },
     "metadata": {},
     "output_type": "display_data"
    }
   ],
   "source": [
    "# Visual check for normality\n",
    "plt.hist(temp)\n",
    "plt.title(\"Histogram of Sampled Body Temperatures\")\n",
    "plt.xlabel(\"Temperature (F)\")\n",
    "plt.ylabel(\"Count\")\n",
    "plt.show()"
   ]
  },
  {
   "cell_type": "markdown",
   "metadata": {},
   "source": [
    "The histogram seems normally distributed, but it would be best to check with more formal tests."
   ]
  },
  {
   "cell_type": "code",
   "execution_count": 4,
   "metadata": {},
   "outputs": [
    {
     "ename": "SyntaxError",
     "evalue": "invalid syntax (<ipython-input-4-14c9c1e5ed1f>, line 3)",
     "output_type": "error",
     "traceback": [
      "\u001b[0;36m  File \u001b[0;32m\"<ipython-input-4-14c9c1e5ed1f>\"\u001b[0;36m, line \u001b[0;32m3\u001b[0m\n\u001b[0;31m    print(\"Kurtosis: \", sci.kurtosis(temp)\u001b[0m\n\u001b[0m        ^\u001b[0m\n\u001b[0;31mSyntaxError\u001b[0m\u001b[0;31m:\u001b[0m invalid syntax\n"
     ]
    }
   ],
   "source": [
    "# Calculate Skewness and Kurtosis\n",
    "print(\"Skewness: \", sci.skew(temp)\n",
    "print(\"Kurtosis: \", sci.kurtosis(temp)"
   ]
  },
  {
   "cell_type": "markdown",
   "metadata": {},
   "source": [
    "While skewness is close to 0, kurtosis is far enough from 3 to warrant a Jarque-Bera test. (Normal distributions are defined by a skewness of 0 and kurtosis of 3)."
   ]
  },
  {
   "cell_type": "code",
   "execution_count": 5,
   "metadata": {},
   "outputs": [
    {
     "name": "stdout",
     "output_type": "stream",
     "text": [
      "p-value:  0.260237006041\n"
     ]
    }
   ],
   "source": [
    "# Jarque-Bera Test of Normality\n",
    "print(\"p-value: \", sci.jarque_bera(temp)[1])"
   ]
  },
  {
   "cell_type": "markdown",
   "metadata": {},
   "source": [
    "With a Jarque-Bera test p-value greater than .05, we fail to reject the null and can safely conclude the distribution is approximately normal."
   ]
  },
  {
   "cell_type": "markdown",
   "metadata": {},
   "source": [
    "### 2. Is the sample size large? Are the observations independent?\n",
    "The data source states that there are 130 randomly sampled individuals. This means we have both a large enough dataset and independent observations.\n",
    "### 3. Is the true population mean really 98.6 degrees F?\n",
    "#### Bootstrap Hypothesis Test"
   ]
  },
  {
   "cell_type": "code",
   "execution_count": 6,
   "metadata": {
    "scrolled": true
   },
   "outputs": [
    {
     "data": {
      "image/png": "[encoded data removed]",
      "text/plain": [
       "<matplotlib.figure.Figure at 0x113f44588>"
      ]
     },
     "metadata": {},
     "output_type": "display_data"
    },
    {
     "name": "stdout",
     "output_type": "stream",
     "text": [
      "Boostrap Mean:  98.2492346154\n",
      "Sample Mean:  98.24923076923078\n",
      "P-value:  0.0\n"
     ]
    }
   ],
   "source": [
    "# Bootstrap: resample 1000 times with replacement\n",
    "bs_means = np.empty(1000)\n",
    "\n",
    "for i in range(1000):\n",
    "    bstrap = np.random.choice(temp, size=len(temp))\n",
    "    bs_means[i] = np.mean(bstrap)\n",
    "\n",
    "plt.hist(bs_means)\n",
    "plt.axvline(bs_means.mean(), color='k', linestyle='dashed', linewidth=1)\n",
    "plt.axvline(98.6, color='red', linestyle='dashed', linewidth=1)\n",
    "plt.title(\"Bootstrap Distribution of Temperature (n = 1000)\")\n",
    "plt.xlabel(\"Temperature (F)\")\n",
    "plt.ylabel(\"Count\")\n",
    "plt.show()\n",
    "print(\"Boostrap Mean: \", bs_means.mean())\n",
    "print(\"Sample Mean: \", temp.mean())\n",
    "print(\"P-value: \", np.sum(bs_means >= 98.6)/1000)"
   ]
  },
  {
   "cell_type": "markdown",
   "metadata": {},
   "source": [
    "With a bootstrap hypothesis test p-value less than .05, we can reasonably conclude that the true population mean temperature is not 98.6 degrees F."
   ]
  },
  {
   "cell_type": "markdown",
   "metadata": {},
   "source": [
    "#### Frequentist One-Sample  Hypothesis Test\n",
    "We use a one-sample test because we only have one variable of interest which we compare to the null. Since the sample size is large enough, I would use a z-statistic. I observe the difference between the t-stat and z-stat test results below."
   ]
  },
  {
   "cell_type": "code",
   "execution_count": 7,
   "metadata": {},
   "outputs": [
    {
     "name": "stdout",
     "output_type": "stream",
     "text": [
      "One-sample z-test:\n",
      "z-statistic:  -5.47592520208\n",
      "p-value:  2.17615758294e-08 \n",
      "\n",
      "One-sample t-test:\n",
      "t-statistic:  -5.45482329236\n",
      "p-value:  2.41063204156e-07\n"
     ]
    }
   ],
   "source": [
    "# One-sample z-test\n",
    "print(\"One-sample z-test:\")\n",
    "zstat = (np.mean(temp) - 98.6)/(np.std(temp)/np.sqrt(len(temp)))\n",
    "print(\"z-statistic: \", zstat)\n",
    "print(\"p-value: \", sci.norm.sf(abs(zstat)), \"\\n\")\n",
    "# One-sample t-test\n",
    "print(\"One-sample t-test:\")\n",
    "print(\"t-statistic: \", sci.ttest_1samp(temp, 98.6)[0])\n",
    "print(\"p-value: \", sci.ttest_1samp(temp, 98.6)[1])"
   ]
  },
  {
   "cell_type": "markdown",
   "metadata": {},
   "source": [
    "We end up with very similar statistics with both tests; this is due to the large sample size. \n",
    "\n",
    "Both tests reject the null, and we can reasonably conclude that the true population mean temperature is not 98.6 degrees F."
   ]
  },
  {
   "cell_type": "markdown",
   "metadata": {},
   "source": [
    "### 4. Small sample\n",
    "I draw a small sample of 10 from the dataset and see the difference between the t-test and z-test with them."
   ]
  },
  {
   "cell_type": "code",
   "execution_count": 9,
   "metadata": {},
   "outputs": [
    {
     "name": "stdout",
     "output_type": "stream",
     "text": [
      "One-sample z-test:\n",
      "z-statistic:  -3.06265325514\n",
      "p-value:  0.00109692052846 \n",
      "\n",
      "One-sample t-test:\n",
      "t-statistic:  -2.90548799087\n",
      "p-value:  0.0174388609083\n"
     ]
    }
   ],
   "source": [
    "sample10 = np.random.choice(temp, size=10)\n",
    "# z-test\n",
    "print(\"One-sample z-test:\")\n",
    "zstat4 = (np.mean(sample10) - 98.6)/(np.std(sample10)/np.sqrt(len(sample10)))\n",
    "print(\"z-statistic: \", zstat4)\n",
    "print(\"p-value: \", sci.norm.sf(abs(zstat4)), \"\\n\")\n",
    "# t-test\n",
    "print(\"One-sample t-test:\")\n",
    "print(\"t-statistic: \", sci.ttest_1samp(sample10, 98.6)[0])\n",
    "print(\"p-value: \", sci.ttest_1samp(sample10, 98.6)[1])"
   ]
  },
  {
   "cell_type": "markdown",
   "metadata": {},
   "source": [
    "Because the sample size is much smaller here, we should use the t-statistic. We see similar statistics but a much higher p-value with the t-test, this shows the t-test is a little more conservative (requires more of a difference in values to reject) with smaller sample sizes."
   ]
  },
  {
   "cell_type": "markdown",
   "metadata": {},
   "source": [
    "### 5. What temperatures are abnormal?\n",
    "Any values outside either of these interval, we should consider abnormal.\n",
    "\n",
    "#### Bootstrap 95% Confidence Interval"
   ]
  },
  {
   "cell_type": "code",
   "execution_count": 24,
   "metadata": {},
   "outputs": [
    {
     "name": "stdout",
     "output_type": "stream",
     "text": [
      "Bootstrap 95% Confidence Interval:  [ 98.12844231  98.37076923]\n",
      "Margin of Error:  0.121163461538\n"
     ]
    }
   ],
   "source": [
    "#Using the bootstrap sample generated previously, I find the 95% confidence interval\n",
    "print(\"Bootstrap 95% Confidence Interval: \", np.percentile(bs_means,[2.5,97.5]))\n",
    "print(\"Margin of Error: \", np.diff(np.percentile(bs_means,[2.5,97.5]))[0]/2)"
   ]
  },
  {
   "cell_type": "markdown",
   "metadata": {},
   "source": [
    "#### Frequentist 95% Confidence Interval"
   ]
  },
  {
   "cell_type": "code",
   "execution_count": 26,
   "metadata": {},
   "outputs": [
    {
     "name": "stdout",
     "output_type": "stream",
     "text": [
      "Bootstrap 95% Confidence Interval:  [ 98.1236798   98.37478173]\n",
      "Margin of Error:  0.125550964803\n"
     ]
    }
   ],
   "source": [
    "low = np.mean(temp)-(1.96*np.std(temp)/np.sqrt(len(temp)))\n",
    "high = np.mean(temp)+(1.96*np.std(temp)/np.sqrt(len(temp)))\n",
    "ci95 = np.array([low,high])\n",
    "print(\"Bootstrap 95% Confidence Interval: \", ci95)\n",
    "print(\"Margin of Error: \", np.diff(ci95)[0]/2)"
   ]
  },
  {
   "cell_type": "markdown",
   "metadata": {},
   "source": [
    "### 6. Is there a difference between males and females?\n",
    "I use a two-sample t-test to determine the difference. The sample sizes are large enough to where bootstrapping is not required, but not large enough for a z-test."
   ]
  },
  {
   "cell_type": "code",
   "execution_count": 53,
   "metadata": {
    "scrolled": false
   },
   "outputs": [
    {
     "name": "stdout",
     "output_type": "stream",
     "text": [
      "Males have a mean temperature of ~ 98.1046 degrees F and a sample size of 65 .\n",
      "Females have a mean temperature of ~ 98.3938 degrees F and a sample size of 65 .\n",
      "\n",
      "Two-sample t-test:\n",
      "t-statistic:  -2.28543453817\n",
      "p-value:  0.0239318831224\n"
     ]
    }
   ],
   "source": [
    "# Separate male and female samples\n",
    "male = df[df.gender == 'M']['temperature']\n",
    "female = df[df.gender == 'F']['temperature']\n",
    "\n",
    "# Summary Statistics\n",
    "print(\"Males have a mean temperature of ~\", round(np.mean(male),4), \"degrees F and a sample size of\", len(male),\".\")\n",
    "print(\"Females have a mean temperature of ~\", round(np.mean(female),4), \"degrees F and a sample size of\", len(female),\".\")\n",
    "# Two-sample t-test\n",
    "print(\"\\nTwo-sample t-test:\")\n",
    "print(\"t-statistic: \", sci.ttest_ind(male,female)[0])\n",
    "print(\"p-value: \", sci.ttest_ind(male,female)[1])"
   ]
  },
  {
   "cell_type": "markdown",
   "metadata": {},
   "source": [
    "#### Conclusion:\n",
    "Given a random sample of 65 men's and 65 women's temperatures, I ran a statistical test to determine whether or not the average temperatures of the two populations are the same. The test concluded that the average temperatures of men and women are different."
   ]
  }
 ],
 "metadata": {
  "kernelspec": {
   "display_name": "Python 3",
   "language": "python",
   "name": "python3"
  },
  "language_info": {
   "codemirror_mode": {
    "name": "ipython",
    "version": 3
   },
   "file_extension": ".py",
   "mimetype": "text/x-python",
   "name": "python",
   "nbconvert_exporter": "python",
   "pygments_lexer": "ipython3",
   "version": "3.6.3"
  }
 },
 "nbformat": 4,
 "nbformat_minor": 1
}
